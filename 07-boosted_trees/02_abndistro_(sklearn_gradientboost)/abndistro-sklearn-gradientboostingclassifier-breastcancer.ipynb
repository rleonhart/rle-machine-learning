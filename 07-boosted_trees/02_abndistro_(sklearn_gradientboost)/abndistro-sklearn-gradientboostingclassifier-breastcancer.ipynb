{
 "cells": [
  {
   "cell_type": "markdown",
   "metadata": {},
   "source": [
    "Based on: https://abndistro.com/post/2019/06/25/example-gradient-boosted-classifier-using-scikit-learn/"
   ]
  },
  {
   "cell_type": "markdown",
   "metadata": {},
   "source": [
    "# The Data We Will Use"
   ]
  },
  {
   "cell_type": "code",
   "execution_count": 37,
   "metadata": {},
   "outputs": [],
   "source": [
    "import pandas as pd\n",
    "\n",
    "breast_cancer = pd.read_csv(\"http://archive.ics.uci.edu/ml/machine-learning-databases/breast-cancer-wisconsin/breast-cancer-wisconsin.data\")\n",
    "\n",
    "breast_cancer.columns = ['ID', 'X1', 'X2', 'X3', 'X4', 'X5', 'X6', 'X7',\n",
    "                         'X8', 'X9', 'malignant']"
   ]
  },
  {
   "cell_type": "code",
   "execution_count": 38,
   "metadata": {},
   "outputs": [],
   "source": [
    "breast_cancer = breast_cancer.drop(columns = [\"ID\", \"X6\"])\n",
    "\n",
    "breast_cancer = breast_cancer.dropna()\n",
    "\n",
    "X = breast_cancer.drop(columns = \"malignant\")\n",
    "\n",
    "y = breast_cancer[[\"malignant\"]]"
   ]
  },
  {
   "cell_type": "markdown",
   "metadata": {},
   "source": [
    "# Encode Labels"
   ]
  },
  {
   "cell_type": "code",
   "execution_count": 54,
   "metadata": {},
   "outputs": [
    {
     "data": {
      "text/plain": [
       "0    457\n",
       "1    241\n",
       "dtype: int64"
      ]
     },
     "execution_count": 54,
     "metadata": {},
     "output_type": "execute_result"
    }
   ],
   "source": [
    "from sklearn import preprocessing\n",
    "\n",
    "label_enc = preprocessing.LabelEncoder()\n",
    "\n",
    "label_enc.fit(y.values.ravel())\n",
    "\n",
    "y_enc = label_enc.transform(y.values.ravel())\n",
    "\n",
    "pd.value_counts(y_enc)"
   ]
  },
  {
   "cell_type": "markdown",
   "metadata": {},
   "source": [
    "# Splitting the Data Set Into Training Data and Test Data"
   ]
  },
  {
   "cell_type": "code",
   "execution_count": 40,
   "metadata": {},
   "outputs": [],
   "source": [
    "from sklearn.model_selection import train_test_split\n",
    "\n",
    "X_train, X_test, y_train, y_test = train_test_split( X, y_enc, test_size=0.33, random_state=42)"
   ]
  },
  {
   "cell_type": "markdown",
   "metadata": {},
   "source": [
    "# Scaling the Train and Test Data Set"
   ]
  },
  {
   "cell_type": "code",
   "execution_count": 41,
   "metadata": {},
   "outputs": [],
   "source": [
    "from sklearn.preprocessing import MinMaxScaler\n",
    "\n",
    "scaler = MinMaxScaler()\n",
    "\n",
    "X_train = scaler.fit_transform(X_train)\n",
    "\n",
    "X_test = scaler.transform(X_test)"
   ]
  },
  {
   "cell_type": "markdown",
   "metadata": {},
   "source": [
    "# Training the Gradient Boost Classifier with Different Learning Rates"
   ]
  },
  {
   "cell_type": "code",
   "execution_count": 42,
   "metadata": {},
   "outputs": [],
   "source": [
    "learning_rates = [0.05, 0.1, 0.25, 0.5, 0.75, 1]"
   ]
  },
  {
   "cell_type": "code",
   "execution_count": 43,
   "metadata": {},
   "outputs": [
    {
     "name": "stdout",
     "output_type": "stream",
     "text": [
      "Learning rate:  0.05\n",
      "Accuracy (training): 0.964\n",
      "Accuracy (validation): 0.965\n",
      "\n",
      "Learning rate:  0.1\n",
      "Accuracy (training): 0.970\n",
      "Accuracy (validation): 0.965\n",
      "\n",
      "Learning rate:  0.25\n",
      "Accuracy (training): 0.970\n",
      "Accuracy (validation): 0.965\n",
      "\n",
      "Learning rate:  0.5\n",
      "Accuracy (training): 0.985\n",
      "Accuracy (validation): 0.961\n",
      "\n",
      "Learning rate:  0.75\n",
      "Accuracy (training): 0.989\n",
      "Accuracy (validation): 0.952\n",
      "\n",
      "Learning rate:  1\n",
      "Accuracy (training): 0.983\n",
      "Accuracy (validation): 0.944\n",
      "\n"
     ]
    }
   ],
   "source": [
    "from sklearn.ensemble import GradientBoostingClassifier\n",
    "\n",
    "for learning_rate in learning_rates:\n",
    "\n",
    "    gb = GradientBoostingClassifier(\n",
    "      n_estimators=20, \n",
    "      learning_rate = learning_rate, \n",
    "      max_features=2, \n",
    "      max_depth = 2, \n",
    "      random_state = 0)\n",
    "      \n",
    "    gb.fit(X_train, y_train)\n",
    "    \n",
    "    print(\"Learning rate: \", learning_rate)\n",
    "    print(\"Accuracy (training): {0:.3f}\".format(gb.score(X_train, y_train)))\n",
    "    print(\"Accuracy (validation): {0:.3f}\".format(gb.score(X_test, y_test)))\n",
    "    print()"
   ]
  },
  {
   "cell_type": "markdown",
   "metadata": {},
   "source": [
    "# Selecting the Best Learning Rate"
   ]
  },
  {
   "cell_type": "code",
   "execution_count": 44,
   "metadata": {},
   "outputs": [
    {
     "data": {
      "text/plain": [
       "GradientBoostingClassifier(learning_rate=0.5, max_depth=2, max_features=2,\n",
       "                           n_estimators=20, random_state=0)"
      ]
     },
     "execution_count": 44,
     "metadata": {},
     "output_type": "execute_result"
    }
   ],
   "source": [
    "gb = GradientBoostingClassifier(\n",
    "      n_estimators=20, \n",
    "      learning_rate = 0.5, \n",
    "      max_features=2, \n",
    "      max_depth = 2, \n",
    "      random_state = 0)\n",
    "      \n",
    "gb.fit(X_train, y_train)"
   ]
  },
  {
   "cell_type": "markdown",
   "metadata": {},
   "source": [
    "# Making Predictions With our Gradient Boosting Model"
   ]
  },
  {
   "cell_type": "code",
   "execution_count": 45,
   "metadata": {},
   "outputs": [],
   "source": [
    "predictions = gb.predict(X_test)"
   ]
  },
  {
   "cell_type": "markdown",
   "metadata": {},
   "source": [
    "# Assessing the Performance of Our Gradient Boosting Model"
   ]
  },
  {
   "cell_type": "markdown",
   "metadata": {},
   "source": [
    "## Using the Classification Report"
   ]
  },
  {
   "cell_type": "code",
   "execution_count": 46,
   "metadata": {},
   "outputs": [
    {
     "name": "stdout",
     "output_type": "stream",
     "text": [
      "              precision    recall  f1-score   support\n",
      "\n",
      "           0       0.98      0.96      0.97       149\n",
      "           1       0.93      0.96      0.95        82\n",
      "\n",
      "    accuracy                           0.96       231\n",
      "   macro avg       0.95      0.96      0.96       231\n",
      "weighted avg       0.96      0.96      0.96       231\n",
      "\n"
     ]
    }
   ],
   "source": [
    "from sklearn.metrics import classification_report\n",
    "\n",
    "print(classification_report(y_test, predictions))"
   ]
  },
  {
   "cell_type": "markdown",
   "metadata": {},
   "source": [
    "## Using the Confusion Matrix"
   ]
  },
  {
   "cell_type": "code",
   "execution_count": 47,
   "metadata": {},
   "outputs": [
    {
     "data": {
      "image/png": "[encoded data removed]",
      "text/plain": [
       "<Figure size 432x288 with 2 Axes>"
      ]
     },
     "metadata": {
      "needs_background": "light"
     },
     "output_type": "display_data"
    }
   ],
   "source": [
    "from sklearn.metrics import plot_confusion_matrix\n",
    "\n",
    "import matplotlib.pyplot as plt\n",
    "\n",
    "plot_confusion_matrix(gb, X_test, y_test)\n",
    "\n",
    "plt.show()"
   ]
  },
  {
   "cell_type": "markdown",
   "metadata": {},
   "source": [
    "## Using the ROC and AUC\n",
    "https://www.displayr.com/what-is-a-roc-curve-how-to-interpret-it/  \n",
    "ROC = Receiver Operator Characteristic  \n",
    "AUC = Area Under Curve"
   ]
  },
  {
   "cell_type": "code",
   "execution_count": 48,
   "metadata": {},
   "outputs": [
    {
     "name": "stdout",
     "output_type": "stream",
     "text": [
      "Area under ROC curve = 0.99\n"
     ]
    }
   ],
   "source": [
    "from sklearn.metrics import roc_curve, auc\n",
    "\n",
    "y_scores_gb = gb.decision_function(X_test)\n",
    "\n",
    "fpr_gb, tpr_gb, _ = roc_curve(y_test, y_scores_gb)\n",
    "\n",
    "roc_auc_gb = auc(fpr_gb, tpr_gb)\n",
    "\n",
    "print(\"Area under ROC curve = {:0.2f}\".format(roc_auc_gb))"
   ]
  },
  {
   "cell_type": "markdown",
   "metadata": {},
   "source": [
    "### Visualising the ROC Curve and AUC\n",
    "Code to visualise ROC found at https://stackoverflow.com/questions/25009284/how-to-plot-roc-curve-in-python"
   ]
  },
  {
   "cell_type": "code",
   "execution_count": 49,
   "metadata": {},
   "outputs": [
    {
     "data": {
      "image/png": "[encoded data removed]",
      "text/plain": [
       "<Figure size 432x288 with 1 Axes>"
      ]
     },
     "metadata": {
      "needs_background": "light"
     },
     "output_type": "display_data"
    }
   ],
   "source": [
    "import matplotlib.pyplot as plt\n",
    "\n",
    "plt.title('Receiver Operating Characteristic')\n",
    "\n",
    "plt.plot(fpr_gb, tpr_gb, 'b', label = 'AUC = %0.2f' % roc_auc_gb)\n",
    "\n",
    "plt.legend(loc = 'lower right')\n",
    "\n",
    "plt.plot([0, 1], [0, 1],'r--')\n",
    "\n",
    "plt.xlim([0, 1])\n",
    "\n",
    "plt.ylim([0, 1])\n",
    "\n",
    "plt.ylabel('True Positive Rate')\n",
    "\n",
    "plt.xlabel('False Positive Rate')\n",
    "\n",
    "plt.show()"
   ]
  },
  {
   "cell_type": "markdown",
   "metadata": {},
   "source": [
    "# Saving the Gradient Boosting Model"
   ]
  },
  {
   "cell_type": "code",
   "execution_count": 51,
   "metadata": {},
   "outputs": [],
   "source": [
    "import pickle\n",
    "\n",
    "saved_model = pickle.dumps(gb)\n",
    "\n",
    "loaded_model = pickle.loads(saved_model)"
   ]
  }
 ],
 "metadata": {
  "kernelspec": {
   "display_name": "Python 3",
   "language": "python",
   "name": "python3"
  },
  "language_info": {
   "codemirror_mode": {
    "name": "ipython",
    "version": 3
   },
   "file_extension": ".py",
   "mimetype": "text/x-python",
   "name": "python",
   "nbconvert_exporter": "python",
   "pygments_lexer": "ipython3",
   "version": "3.8.5"
  }
 },
 "nbformat": 4,
 "nbformat_minor": 4
}
